{
 "cells": [
  {
   "cell_type": "markdown",
   "metadata": {},
   "source": [
    "<h3>Kaggle Challenge</h3>\n",
    "<h1>Expedia Hotel Recommendations</h1>\n",
    "<hr style=\"height:2px;border:none;color:#333;background-color:#333;\"/>\n",
    "<b>Part II - Data Processing</b>"
   ]
  },
  {
   "cell_type": "markdown",
   "metadata": {},
   "source": [
    "### Imports"
   ]
  },
  {
   "cell_type": "code",
   "execution_count": 1,
   "metadata": {
    "collapsed": true
   },
   "outputs": [],
   "source": [
    "import numpy as np\n",
    "import pandas as pd\n",
    "pd.set_option('display.max_columns', 500)\n",
    "\n",
    "import matplotlib\n",
    "import matplotlib.pyplot as plt\n",
    "import seaborn as sns\n",
    "import scipy.stats as stats\n",
    "sns.set(style=\"whitegrid\")\n",
    "%matplotlib inline\n",
    "matplotlib.rcParams['figure.figsize'] = (10.0, 7.0)\n",
    "\n",
    "\n",
    "import time\n",
    "import datetime"
   ]
  },
  {
   "cell_type": "code",
   "execution_count": 21,
   "metadata": {},
   "outputs": [
    {
     "name": "stdout",
     "output_type": "stream",
     "text": [
      "2019-04-07 12:16:26.511319\n",
      "2019-04-07 12:23:09.316620\n"
     ]
    }
   ],
   "source": [
    "# ROWS = 3000000\n",
    "ROWS = None\n",
    "\n",
    "print(datetime.datetime.now())\n",
    "expediaDF = pd.read_csv('data/train.csv.gz', \n",
    "                        nrows=ROWS,\n",
    "                        compression='gzip',\n",
    "                        error_bad_lines=False)\n",
    "print(datetime.datetime.now())"
   ]
  },
  {
   "cell_type": "code",
   "execution_count": 22,
   "metadata": {},
   "outputs": [
    {
     "name": "stdout",
     "output_type": "stream",
     "text": [
      "2019-04-07 12:23:09.383402\n",
      "2019-04-07 12:23:29.399872\n"
     ]
    }
   ],
   "source": [
    "print(datetime.datetime.now())\n",
    "testingDF = pd.read_csv('data/test.csv.gz', \n",
    "#                         nrows=100000,\n",
    "                        compression='gzip',\n",
    "                        error_bad_lines=False)\n",
    "print(datetime.datetime.now())"
   ]
  },
  {
   "cell_type": "markdown",
   "metadata": {},
   "source": [
    "### Handle missing Values"
   ]
  },
  {
   "cell_type": "code",
   "execution_count": 23,
   "metadata": {},
   "outputs": [
    {
     "name": "stdout",
     "output_type": "stream",
     "text": [
      "Missing Values: \n"
     ]
    },
    {
     "data": {
      "text/html": [
       "<div>\n",
       "<style>\n",
       "    .dataframe thead tr:only-child th {\n",
       "        text-align: right;\n",
       "    }\n",
       "\n",
       "    .dataframe thead th {\n",
       "        text-align: left;\n",
       "    }\n",
       "\n",
       "    .dataframe tbody tr th {\n",
       "        vertical-align: top;\n",
       "    }\n",
       "</style>\n",
       "<table border=\"1\" class=\"dataframe\">\n",
       "  <thead>\n",
       "    <tr style=\"text-align: right;\">\n",
       "      <th></th>\n",
       "      <th>feature</th>\n",
       "      <th>count</th>\n",
       "      <th>percentage</th>\n",
       "    </tr>\n",
       "  </thead>\n",
       "  <tbody>\n",
       "    <tr>\n",
       "      <th>0</th>\n",
       "      <td>orig_destination_distance</td>\n",
       "      <td>13525001</td>\n",
       "      <td>0.359036</td>\n",
       "    </tr>\n",
       "    <tr>\n",
       "      <th>1</th>\n",
       "      <td>srch_co</td>\n",
       "      <td>47084</td>\n",
       "      <td>0.001250</td>\n",
       "    </tr>\n",
       "    <tr>\n",
       "      <th>2</th>\n",
       "      <td>srch_ci</td>\n",
       "      <td>47083</td>\n",
       "      <td>0.001250</td>\n",
       "    </tr>\n",
       "  </tbody>\n",
       "</table>\n",
       "</div>"
      ],
      "text/plain": [
       "                     feature     count  percentage\n",
       "0  orig_destination_distance  13525001    0.359036\n",
       "1                    srch_co     47084    0.001250\n",
       "2                    srch_ci     47083    0.001250"
      ]
     },
     "execution_count": 23,
     "metadata": {},
     "output_type": "execute_result"
    }
   ],
   "source": [
    "missingValues = expediaDF.isnull().sum().sort_values(ascending=False)\n",
    "missingValues = missingValues.to_frame().reset_index()\n",
    "missingValues.columns = [\"feature\", \"count\"]\n",
    "missingValues[\"percentage\"] = missingValues[\"count\"] / expediaDF.shape[0]\n",
    "print(\"Missing Values: \")\n",
    "missingValues[missingValues[\"count\"] > 0]"
   ]
  },
  {
   "cell_type": "markdown",
   "metadata": {},
   "source": [
    "- Removing checkin and checkout null rows"
   ]
  },
  {
   "cell_type": "code",
   "execution_count": 24,
   "metadata": {},
   "outputs": [
    {
     "name": "stdout",
     "output_type": "stream",
     "text": [
      "Rows deleted:  47088 - % of the dataset:  0.13%\n"
     ]
    }
   ],
   "source": [
    "countBefore = expediaDF.shape[0]\n",
    "newExpediaDF = expediaDF.dropna(subset=['srch_co', 'srch_ci'])\n",
    "countAfter = newExpediaDF.shape[0]\n",
    "deletedRows = countBefore - countAfter\n",
    "print(\"Rows deleted: \", deletedRows, \"- % of the dataset: \", \"{:.2%}\".format(deletedRows / countBefore))"
   ]
  },
  {
   "cell_type": "code",
   "execution_count": null,
   "metadata": {
    "collapsed": true
   },
   "outputs": [],
   "source": [
    "del expediaDF"
   ]
  },
  {
   "cell_type": "markdown",
   "metadata": {},
   "source": [
    "- Removing the column orig_destination_distance"
   ]
  },
  {
   "cell_type": "code",
   "execution_count": null,
   "metadata": {
    "collapsed": true
   },
   "outputs": [],
   "source": [
    "newExpediaDF = newExpediaDF.drop(['orig_destination_distance'], axis=1)"
   ]
  },
  {
   "cell_type": "code",
   "execution_count": null,
   "metadata": {},
   "outputs": [],
   "source": [
    "print(\"No. of columns with missing values: \", newExpediaDF.isnull().any().sum())"
   ]
  },
  {
   "cell_type": "markdown",
   "metadata": {},
   "source": [
    "### Handle the outliers"
   ]
  },
  {
   "cell_type": "code",
   "execution_count": null,
   "metadata": {},
   "outputs": [],
   "source": [
    "#removing outliers\n",
    "countBefore = newExpediaDF.shape[0]\n",
    "num_train = newExpediaDF.select_dtypes(include=[\"number\"])\n",
    "cat_train = newExpediaDF.select_dtypes(exclude=[\"number\"])\n",
    "idx = np.all(stats.zscore(num_train) < 4, axis=1)\n",
    "countAfter = np.sum(idx)\n",
    "deletedRows = countBefore - countAfter\n",
    "train_cleaned = pd.concat([num_train.loc[idx], cat_train.loc[idx]], axis=1)\n",
    "print(\"Rows deleted: \", deletedRows, \"- % of the dataset: \", \"{:.2%}\".format(deletedRows / countBefore))"
   ]
  },
  {
   "cell_type": "code",
   "execution_count": null,
   "metadata": {
    "collapsed": true
   },
   "outputs": [],
   "source": [
    "del num_train\n",
    "del cat_train\n",
    "del idx\n",
    "del newExpediaDF\n",
    "del countBefore\n",
    "del countAfter"
   ]
  },
  {
   "cell_type": "markdown",
   "metadata": {},
   "source": [
    "### Handle categorical values"
   ]
  },
  {
   "cell_type": "code",
   "execution_count": null,
   "metadata": {
    "collapsed": true
   },
   "outputs": [],
   "source": [
    "from sklearn.preprocessing import LabelEncoder\n",
    "def encode_label(df):\n",
    "    X_cat = df.copy()\n",
    "    X_cat = df.select_dtypes(include=['object'])\n",
    "    X_enc = X_cat.copy()\n",
    "\n",
    "    X_enc = X_enc.apply(LabelEncoder().fit_transform)\n",
    "    mergedata = df.drop(X_cat.columns, axis=1)\n",
    "\n",
    "    return pd.concat([mergedata,X_enc], axis=1).astype(float)"
   ]
  },
  {
   "cell_type": "code",
   "execution_count": null,
   "metadata": {
    "collapsed": true
   },
   "outputs": [],
   "source": [
    "train_cleaned = encode_label(train_cleaned)"
   ]
  },
  {
   "cell_type": "code",
   "execution_count": null,
   "metadata": {
    "collapsed": true
   },
   "outputs": [],
   "source": [
    "trainingDF = train_cleaned\n",
    "del train_cleaned"
   ]
  },
  {
   "cell_type": "markdown",
   "metadata": {},
   "source": [
    "### Modeling"
   ]
  },
  {
   "cell_type": "code",
   "execution_count": null,
   "metadata": {
    "collapsed": true
   },
   "outputs": [],
   "source": [
    "from sklearn.model_selection import train_test_split\n",
    "from sklearn.metrics import average_precision_score"
   ]
  },
  {
   "cell_type": "code",
   "execution_count": null,
   "metadata": {
    "collapsed": true
   },
   "outputs": [],
   "source": [
    "X = trainingDF.drop('hotel_cluster', axis=1)\n",
    "y = trainingDF[\"hotel_cluster\"]\n",
    "X_test = trainingDF"
   ]
  },
  {
   "cell_type": "code",
   "execution_count": null,
   "metadata": {
    "collapsed": true
   },
   "outputs": [],
   "source": [
    "X_train, X_test, y_train, y_test = train_test_split(X, y, test_size=0.4)"
   ]
  },
  {
   "cell_type": "markdown",
   "metadata": {},
   "source": [
    "#### - Applying scale to the test set "
   ]
  },
  {
   "cell_type": "code",
   "execution_count": null,
   "metadata": {},
   "outputs": [],
   "source": [
    "print(datetime.datetime.now())\n",
    "\n",
    "from sklearn.model_selection import train_test_split\n",
    "X_train, X_test, y_train, y_test = train_test_split(X, y, random_state=0)\n",
    "\n",
    "from sklearn.preprocessing import MinMaxScaler\n",
    "scaler = MinMaxScaler()\n",
    "X_train = scaler.fit_transform(X_train)\n",
    "X_test = scaler.transform(X_test)\n",
    "\n",
    "print(datetime.datetime.now())\n"
   ]
  },
  {
   "cell_type": "markdown",
   "metadata": {},
   "source": [
    "#### - Train the model"
   ]
  },
  {
   "cell_type": "code",
   "execution_count": null,
   "metadata": {},
   "outputs": [],
   "source": [
    "from sklearn.tree import DecisionTreeClassifier\n",
    "print(datetime.datetime.now())\n",
    "\n",
    "clf = DecisionTreeClassifier().fit(X_train, y_train)\n",
    "print('Accuracy of Decision Tree classifier on training set: {:.2f}'\n",
    "     .format(clf.score(X_train, y_train)))\n",
    "print('Accuracy of Decision Tree classifier on test set: {:.2f}'\n",
    "     .format(clf.score(X_test, y_test)))\n",
    "print(datetime.datetime.now())\n"
   ]
  },
  {
   "cell_type": "code",
   "execution_count": 20,
   "metadata": {},
   "outputs": [
    {
     "name": "stdout",
     "output_type": "stream",
     "text": [
      "2019-04-07 11:25:15.359399\n",
      "Accuracy of Decision Tree classifier on training set: 0.96\n",
      "Accuracy of Decision Tree classifier on test set: 0.25\n",
      "2019-04-07 11:32:30.821137\n"
     ]
    }
   ],
   "source": [
    "from sklearn.ensemble import RandomForestClassifier\n",
    "print(datetime.datetime.now())\n",
    "\n",
    "clf = RandomForestClassifier().fit(X_train, y_train)\n",
    "print('Accuracy of Random Tree classifier on training set: {:.2f}'\n",
    "     .format(clf.score(X_train, y_train)))\n",
    "print('Accuracy of Random Tree classifier on test set: {:.2f}'\n",
    "     .format(clf.score(X_test, y_test)))\n",
    "print(datetime.datetime.now())"
   ]
  },
  {
   "cell_type": "markdown",
   "metadata": {},
   "source": [
    "### Validation"
   ]
  },
  {
   "cell_type": "code",
   "execution_count": null,
   "metadata": {},
   "outputs": [],
   "source": [
    "import ml_metrics as metrics\n",
    "from sklearn import cross_validation"
   ]
  },
  {
   "cell_type": "code",
   "execution_count": null,
   "metadata": {},
   "outputs": [],
   "source": [
    "best_model = clf\n",
    "y_test_predicted_probability = best_model.predict_proba(X_test)\n",
    "\n",
    "prob = y_test_predicted_probability.argsort()\n",
    "predictions = []\n",
    "for p in prob:\n",
    "    predictions.append(list(reversed(p[-5:])))"
   ]
  },
  {
   "cell_type": "markdown",
   "metadata": {},
   "source": [
    "#### - Evaluating the predictions"
   ]
  },
  {
   "cell_type": "code",
   "execution_count": null,
   "metadata": {},
   "outputs": [],
   "source": [
    "targ = [[l] for l in y_test]\n",
    "score = metrics.mapk(targ, preds, k=5)\n",
    "print('Accuracy of the predictions (MAP@5): {:.2f}'\n",
    "     .format(score))"
   ]
  },
  {
   "cell_type": "markdown",
   "metadata": {},
   "source": [
    "knn, dt,rf\n",
    "500 => 0.27\n",
    "1M => 0.27\n",
    "2M => 0.24, 0,26\n",
    "3M => ,0.26/0.278/0.25"
   ]
  }
 ],
 "metadata": {
  "kernelspec": {
   "display_name": "Python 3",
   "language": "python",
   "name": "python3"
  },
  "language_info": {
   "codemirror_mode": {
    "name": "ipython",
    "version": 3
   },
   "file_extension": ".py",
   "mimetype": "text/x-python",
   "name": "python",
   "nbconvert_exporter": "python",
   "pygments_lexer": "ipython3",
   "version": "3.6.3"
  }
 },
 "nbformat": 4,
 "nbformat_minor": 2
}
