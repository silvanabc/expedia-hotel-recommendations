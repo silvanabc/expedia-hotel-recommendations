{
 "cells": [
  {
   "cell_type": "markdown",
   "metadata": {
    "collapsed": true
   },
   "source": [
    "<h3>Kaggle Challenge</h3>\n",
    "<h1>Expedia Hotel Recommendation</h1>\n",
    "<hr style=\"height:2px;border:none;color:#333;background-color:#333;\"/>"
   ]
  },
  {
   "cell_type": "markdown",
   "metadata": {},
   "source": [
    "### Imports"
   ]
  },
  {
   "cell_type": "code",
   "execution_count": null,
   "metadata": {},
   "outputs": [],
   "source": [
    "import numpy as np\n",
    "import pandas as pd\n",
    "from datetime import timedelta as td\n",
    "pd.set_option('display.max_columns', 500)\n",
    "\n",
    "import matplotlib\n",
    "import matplotlib.pyplot as plt\n",
    "import seaborn as sns\n",
    "sns.set(style=\"whitegrid\")\n",
    "%matplotlib inline\n",
    "matplotlib.rcParams['figure.figsize'] = (10.0, 7.0)\n",
    "\n",
    "ROWS = 200000"
   ]
  },
  {
   "cell_type": "code",
   "execution_count": 3,
   "metadata": {},
   "outputs": [],
   "source": [
    "expediaDF = pd.read_csv('data/train.csv.gz', compression='gzip',\n",
    "                   error_bad_lines=False)"
   ]
  },
  {
   "cell_type": "code",
   "execution_count": 4,
   "metadata": {},
   "outputs": [
    {
     "data": {
      "text/html": [
       "<div>\n",
       "<style>\n",
       "    .dataframe thead tr:only-child th {\n",
       "        text-align: right;\n",
       "    }\n",
       "\n",
       "    .dataframe thead th {\n",
       "        text-align: left;\n",
       "    }\n",
       "\n",
       "    .dataframe tbody tr th {\n",
       "        vertical-align: top;\n",
       "    }\n",
       "</style>\n",
       "<table border=\"1\" class=\"dataframe\">\n",
       "  <thead>\n",
       "    <tr style=\"text-align: right;\">\n",
       "      <th></th>\n",
       "      <th>date_time</th>\n",
       "      <th>site_name</th>\n",
       "      <th>posa_continent</th>\n",
       "      <th>user_location_country</th>\n",
       "      <th>user_location_region</th>\n",
       "      <th>user_location_city</th>\n",
       "      <th>orig_destination_distance</th>\n",
       "      <th>user_id</th>\n",
       "      <th>is_mobile</th>\n",
       "      <th>is_package</th>\n",
       "      <th>...</th>\n",
       "      <th>srch_children_cnt</th>\n",
       "      <th>srch_rm_cnt</th>\n",
       "      <th>srch_destination_id</th>\n",
       "      <th>srch_destination_type_id</th>\n",
       "      <th>is_booking</th>\n",
       "      <th>cnt</th>\n",
       "      <th>hotel_continent</th>\n",
       "      <th>hotel_country</th>\n",
       "      <th>hotel_market</th>\n",
       "      <th>hotel_cluster</th>\n",
       "    </tr>\n",
       "  </thead>\n",
       "  <tbody>\n",
       "    <tr>\n",
       "      <th>0</th>\n",
       "      <td>2014-08-11 07:46:59</td>\n",
       "      <td>2</td>\n",
       "      <td>3</td>\n",
       "      <td>66</td>\n",
       "      <td>348</td>\n",
       "      <td>48862</td>\n",
       "      <td>2234.2641</td>\n",
       "      <td>12</td>\n",
       "      <td>0</td>\n",
       "      <td>1</td>\n",
       "      <td>...</td>\n",
       "      <td>0</td>\n",
       "      <td>1</td>\n",
       "      <td>8250</td>\n",
       "      <td>1</td>\n",
       "      <td>0</td>\n",
       "      <td>3</td>\n",
       "      <td>2</td>\n",
       "      <td>50</td>\n",
       "      <td>628</td>\n",
       "      <td>1</td>\n",
       "    </tr>\n",
       "    <tr>\n",
       "      <th>1</th>\n",
       "      <td>2014-08-11 08:22:12</td>\n",
       "      <td>2</td>\n",
       "      <td>3</td>\n",
       "      <td>66</td>\n",
       "      <td>348</td>\n",
       "      <td>48862</td>\n",
       "      <td>2234.2641</td>\n",
       "      <td>12</td>\n",
       "      <td>0</td>\n",
       "      <td>1</td>\n",
       "      <td>...</td>\n",
       "      <td>0</td>\n",
       "      <td>1</td>\n",
       "      <td>8250</td>\n",
       "      <td>1</td>\n",
       "      <td>1</td>\n",
       "      <td>1</td>\n",
       "      <td>2</td>\n",
       "      <td>50</td>\n",
       "      <td>628</td>\n",
       "      <td>1</td>\n",
       "    </tr>\n",
       "    <tr>\n",
       "      <th>2</th>\n",
       "      <td>2014-08-11 08:24:33</td>\n",
       "      <td>2</td>\n",
       "      <td>3</td>\n",
       "      <td>66</td>\n",
       "      <td>348</td>\n",
       "      <td>48862</td>\n",
       "      <td>2234.2641</td>\n",
       "      <td>12</td>\n",
       "      <td>0</td>\n",
       "      <td>0</td>\n",
       "      <td>...</td>\n",
       "      <td>0</td>\n",
       "      <td>1</td>\n",
       "      <td>8250</td>\n",
       "      <td>1</td>\n",
       "      <td>0</td>\n",
       "      <td>1</td>\n",
       "      <td>2</td>\n",
       "      <td>50</td>\n",
       "      <td>628</td>\n",
       "      <td>1</td>\n",
       "    </tr>\n",
       "    <tr>\n",
       "      <th>3</th>\n",
       "      <td>2014-08-09 18:05:16</td>\n",
       "      <td>2</td>\n",
       "      <td>3</td>\n",
       "      <td>66</td>\n",
       "      <td>442</td>\n",
       "      <td>35390</td>\n",
       "      <td>913.1932</td>\n",
       "      <td>93</td>\n",
       "      <td>0</td>\n",
       "      <td>0</td>\n",
       "      <td>...</td>\n",
       "      <td>0</td>\n",
       "      <td>1</td>\n",
       "      <td>14984</td>\n",
       "      <td>1</td>\n",
       "      <td>0</td>\n",
       "      <td>1</td>\n",
       "      <td>2</td>\n",
       "      <td>50</td>\n",
       "      <td>1457</td>\n",
       "      <td>80</td>\n",
       "    </tr>\n",
       "    <tr>\n",
       "      <th>4</th>\n",
       "      <td>2014-08-09 18:08:18</td>\n",
       "      <td>2</td>\n",
       "      <td>3</td>\n",
       "      <td>66</td>\n",
       "      <td>442</td>\n",
       "      <td>35390</td>\n",
       "      <td>913.6259</td>\n",
       "      <td>93</td>\n",
       "      <td>0</td>\n",
       "      <td>0</td>\n",
       "      <td>...</td>\n",
       "      <td>0</td>\n",
       "      <td>1</td>\n",
       "      <td>14984</td>\n",
       "      <td>1</td>\n",
       "      <td>0</td>\n",
       "      <td>1</td>\n",
       "      <td>2</td>\n",
       "      <td>50</td>\n",
       "      <td>1457</td>\n",
       "      <td>21</td>\n",
       "    </tr>\n",
       "  </tbody>\n",
       "</table>\n",
       "<p>5 rows × 24 columns</p>\n",
       "</div>"
      ],
      "text/plain": [
       "             date_time  site_name  posa_continent  user_location_country  \\\n",
       "0  2014-08-11 07:46:59          2               3                     66   \n",
       "1  2014-08-11 08:22:12          2               3                     66   \n",
       "2  2014-08-11 08:24:33          2               3                     66   \n",
       "3  2014-08-09 18:05:16          2               3                     66   \n",
       "4  2014-08-09 18:08:18          2               3                     66   \n",
       "\n",
       "   user_location_region  user_location_city  orig_destination_distance  \\\n",
       "0                   348               48862                  2234.2641   \n",
       "1                   348               48862                  2234.2641   \n",
       "2                   348               48862                  2234.2641   \n",
       "3                   442               35390                   913.1932   \n",
       "4                   442               35390                   913.6259   \n",
       "\n",
       "   user_id  is_mobile  is_package      ...        srch_children_cnt  \\\n",
       "0       12          0           1      ...                        0   \n",
       "1       12          0           1      ...                        0   \n",
       "2       12          0           0      ...                        0   \n",
       "3       93          0           0      ...                        0   \n",
       "4       93          0           0      ...                        0   \n",
       "\n",
       "  srch_rm_cnt srch_destination_id  srch_destination_type_id  is_booking  cnt  \\\n",
       "0           1                8250                         1           0    3   \n",
       "1           1                8250                         1           1    1   \n",
       "2           1                8250                         1           0    1   \n",
       "3           1               14984                         1           0    1   \n",
       "4           1               14984                         1           0    1   \n",
       "\n",
       "   hotel_continent  hotel_country  hotel_market  hotel_cluster  \n",
       "0                2             50           628              1  \n",
       "1                2             50           628              1  \n",
       "2                2             50           628              1  \n",
       "3                2             50          1457             80  \n",
       "4                2             50          1457             21  \n",
       "\n",
       "[5 rows x 24 columns]"
      ]
     },
     "execution_count": 4,
     "metadata": {},
     "output_type": "execute_result"
    }
   ],
   "source": [
    "expediaDF.head()"
   ]
  },
  {
   "cell_type": "markdown",
   "metadata": {},
   "source": [
    "## Data Analysis"
   ]
  },
  {
   "cell_type": "markdown",
   "metadata": {},
   "source": [
    "- How many rows?"
   ]
  },
  {
   "cell_type": "code",
   "execution_count": 7,
   "metadata": {
    "scrolled": true
   },
   "outputs": [
    {
     "name": "stdout",
     "output_type": "stream",
     "text": [
      "Rows:  37670293\n"
     ]
    }
   ],
   "source": [
    "print('Rows: ',expediaDF['site_name'].size)"
   ]
  },
  {
   "cell_type": "markdown",
   "metadata": {},
   "source": [
    "### Types of the features"
   ]
  },
  {
   "cell_type": "code",
   "execution_count": 28,
   "metadata": {},
   "outputs": [
    {
     "data": {
      "text/plain": [
       "Text(0.5,1,'Features Quantity per Type')"
      ]
     },
     "execution_count": 28,
     "metadata": {},
     "output_type": "execute_result"
    },
    {
     "data": {
      "image/png": "[encoded data removed]",
      "text/plain": [
       "<matplotlib.figure.Figure at 0x113d53358>"
      ]
     },
     "metadata": {},
     "output_type": "display_data"
    }
   ],
   "source": [
    "fig, ax = plt.subplots()\n",
    "\n",
    "types = expediaDF.dtypes.value_counts()\n",
    "\n",
    "sns.barplot(types.index, types.values)\n",
    "ax.set_ylabel(\"Quantity\")\n",
    "ax.set_xlabel(\"Type\")\n",
    "ax.set_title('Features Quantity per Type')"
   ]
  },
  {
   "cell_type": "markdown",
   "metadata": {},
   "source": [
    "### Hotel Clusters"
   ]
  },
  {
   "cell_type": "code",
   "execution_count": 39,
   "metadata": {},
   "outputs": [
    {
     "name": "stdout",
     "output_type": "stream",
     "text": [
      "Total n. hotel clusters:  100\n"
     ]
    }
   ],
   "source": [
    "uniqueClusters = expediaDF['hotel_cluster'].unique().size\n",
    "print(\"Total n. hotel clusters: \", uniqueClusters)"
   ]
  },
  {
   "cell_type": "code",
   "execution_count": 40,
   "metadata": {},
   "outputs": [
    {
     "name": "stdout",
     "output_type": "stream",
     "text": [
      "Distribution of the Hotel Clusters\n"
     ]
    },
    {
     "data": {
      "image/png": "[encoded data removed]",
      "text/plain": [
       "<matplotlib.figure.Figure at 0x114701b00>"
      ]
     },
     "metadata": {},
     "output_type": "display_data"
    }
   ],
   "source": [
    "print(\"Distribution of the Hotel Clusters\")\n",
    "sns.distplot(expediaDF['hotel_cluster']);"
   ]
  },
  {
   "cell_type": "markdown",
   "metadata": {},
   "source": [
    "### Users"
   ]
  },
  {
   "cell_type": "code",
   "execution_count": 48,
   "metadata": {},
   "outputs": [
    {
     "name": "stdout",
     "output_type": "stream",
     "text": [
      "Total n. usuários:  1198786\n"
     ]
    }
   ],
   "source": [
    "uniqueUsers = expediaDF['user_id'].unique().size\n",
    "print(\"Total n. usuários: \", uniqueUsers)"
   ]
  },
  {
   "cell_type": "code",
   "execution_count": 47,
   "metadata": {},
   "outputs": [
    {
     "data": {
      "image/png": "[encoded data removed]",
      "text/plain": [
       "<matplotlib.figure.Figure at 0x114218b00>"
      ]
     },
     "metadata": {},
     "output_type": "display_data"
    }
   ],
   "source": [
    "plt.figure(figsize=(10,7))\n",
    "sns.boxplot(expediaDF['user_id'].value_counts(),showfliers=False)\n",
    "plt.title('Box Plot of the Users')\n",
    "plt.xlabel('Quantity')\n",
    "plt.show()"
   ]
  },
  {
   "cell_type": "markdown",
   "metadata": {},
   "source": [
    "### Destination"
   ]
  },
  {
   "cell_type": "code",
   "execution_count": 50,
   "metadata": {},
   "outputs": [
    {
     "name": "stdout",
     "output_type": "stream",
     "text": [
      "Total n. usuários:  59455\n"
     ]
    }
   ],
   "source": [
    "unique = expediaDF['srch_destination_id'].unique().size\n",
    "print(\"Total n. destinations: \", unique)"
   ]
  },
  {
   "cell_type": "code",
   "execution_count": 56,
   "metadata": {},
   "outputs": [
    {
     "data": {
      "image/png": "[encoded data removed]",
      "text/plain": [
       "<matplotlib.figure.Figure at 0x114459828>"
      ]
     },
     "metadata": {},
     "output_type": "display_data"
    }
   ],
   "source": [
    "plt.figure(figsize=(10,7))\n",
    "sns.boxplot(expediaDF['srch_destination_id'].value_counts(),showfliers=False)\n",
    "plt.title('Box Plot of the Destinations')\n",
    "plt.xlabel('Count')\n",
    "plt.show()"
   ]
  },
  {
   "cell_type": "markdown",
   "metadata": {},
   "source": [
    "### Type of Destination"
   ]
  },
  {
   "cell_type": "code",
   "execution_count": 61,
   "metadata": {},
   "outputs": [
    {
     "name": "stdout",
     "output_type": "stream",
     "text": [
      "Total n. type of destinations:  10\n"
     ]
    }
   ],
   "source": [
    "unique = expediaDF['srch_destination_type_id'].unique().size\n",
    "print(\"Total n. type of destinations: \", unique)"
   ]
  },
  {
   "cell_type": "code",
   "execution_count": 69,
   "metadata": {},
   "outputs": [
    {
     "data": {
      "image/png": "[encoded data removed]",
      "text/plain": [
       "<matplotlib.figure.Figure at 0x1134914e0>"
      ]
     },
     "metadata": {},
     "output_type": "display_data"
    }
   ],
   "source": [
    "destTypeCount  = expediaDF['srch_destination_type_id'].value_counts()\n",
    "plt.figure(figsize=(10,5))\n",
    "sns.barplot(destTypeCount.index, destTypeCount.values)\n",
    "plt.title('Destination Type')\n",
    "plt.ylabel('Number of Occurrences')\n",
    "plt.xlabel('Type of destination')\n",
    "plt.show()"
   ]
  },
  {
   "cell_type": "markdown",
   "metadata": {},
   "source": [
    "### Booking vs Click"
   ]
  },
  {
   "cell_type": "code",
   "execution_count": 81,
   "metadata": {},
   "outputs": [
    {
     "name": "stdout",
     "output_type": "stream",
     "text": [
      "Click      34669600\n",
      "Booking     3000693\n",
      "Name: is_booking, dtype: int64\n"
     ]
    },
    {
     "data": {
      "image/png": "[encoded data removed]",
      "text/plain": [
       "<matplotlib.figure.Figure at 0x11391def0>"
      ]
     },
     "metadata": {},
     "output_type": "display_data"
    }
   ],
   "source": [
    "#1 is booking, 0 click\n",
    "bookingCount = expediaDF.is_booking.value_counts()\n",
    "bookingCount.index = [\"Click\",  \"Booking\"]\n",
    "sns.barplot(bookingCount.index, bookingCount.values)\n",
    "\n",
    "ax.set_ylabel(\"Quantity\")\n",
    "ax.set_xlabel(\"Type\")\n",
    "ax.set_title('Features Quantity per Type')\n",
    "print(bookingCount)"
   ]
  },
  {
   "cell_type": "markdown",
   "metadata": {},
   "source": [
    "### Missing Values"
   ]
  },
  {
   "cell_type": "code",
   "execution_count": 108,
   "metadata": {},
   "outputs": [
    {
     "name": "stdout",
     "output_type": "stream",
     "text": [
      "**Missing values** \n",
      "orig_destination_distance    13525001\n",
      "srch_co                         47084\n",
      "srch_ci                         47083\n",
      "dtype: int64\n"
     ]
    },
    {
     "data": {
      "text/plain": [
       "<matplotlib.axes._subplots.AxesSubplot at 0x1114dff28>"
      ]
     },
     "execution_count": 108,
     "metadata": {},
     "output_type": "execute_result"
    },
    {
     "data": {
      "image/png": "[encoded data removed]",
      "text/plain": [
       "<matplotlib.figure.Figure at 0x114e893c8>"
      ]
     },
     "metadata": {},
     "output_type": "display_data"
    }
   ],
   "source": [
    "missingValues = expediaDF.isnull().sum().sort_values(ascending=False)\n",
    "print('**Missing values** ')\n",
    "print(missingValues[missingValues > 0])\n",
    "sns.barplot(missingValues.values, missingValues.index)"
   ]
  },
  {
   "cell_type": "markdown",
   "metadata": {},
   "source": [
    "### Checkin / Checkout"
   ]
  },
  {
   "cell_type": "code",
   "execution_count": 117,
   "metadata": {},
   "outputs": [],
   "source": [
    "checkInOut = expediaDF.dropna(subset = ['srch_ci', 'srch_co'])"
   ]
  },
  {
   "cell_type": "code",
   "execution_count": 136,
   "metadata": {},
   "outputs": [
    {
     "name": "stdout",
     "output_type": "stream",
     "text": [
      "Checkin Data after  Checkout:  19152\n"
     ]
    }
   ],
   "source": [
    "size = checkInOut[checkInOut['srch_co'] < checkInOut['srch_ci']].size\n",
    "print(\"Checkin Data after  Checkout: \", size)"
   ]
  },
  {
   "cell_type": "code",
   "execution_count": 137,
   "metadata": {},
   "outputs": [
    {
     "name": "stderr",
     "output_type": "stream",
     "text": [
      "/anaconda3/lib/python3.6/site-packages/ipykernel_launcher.py:2: SettingWithCopyWarning: \n",
      "A value is trying to be set on a copy of a slice from a DataFrame.\n",
      "Try using .loc[row_indexer,col_indexer] = value instead\n",
      "\n",
      "See the caveats in the documentation: http://pandas.pydata.org/pandas-docs/stable/indexing.html#indexing-view-versus-copy\n",
      "  \n",
      "/anaconda3/lib/python3.6/site-packages/ipykernel_launcher.py:3: SettingWithCopyWarning: \n",
      "A value is trying to be set on a copy of a slice from a DataFrame.\n",
      "Try using .loc[row_indexer,col_indexer] = value instead\n",
      "\n",
      "See the caveats in the documentation: http://pandas.pydata.org/pandas-docs/stable/indexing.html#indexing-view-versus-copy\n",
      "  This is separate from the ipykernel package so we can avoid doing imports until\n"
     ]
    },
    {
     "data": {
      "text/plain": [
       "0          4 days\n",
       "1          4 days\n",
       "2          4 days\n",
       "3          5 days\n",
       "4          5 days\n",
       "5          5 days\n",
       "6          1 days\n",
       "7          1 days\n",
       "8          1 days\n",
       "9          1 days\n",
       "10         1 days\n",
       "11         1 days\n",
       "12         3 days\n",
       "13         3 days\n",
       "14         3 days\n",
       "15         2 days\n",
       "16         2 days\n",
       "17         2 days\n",
       "18         2 days\n",
       "19         2 days\n",
       "20         2 days\n",
       "21         2 days\n",
       "22         2 days\n",
       "23         2 days\n",
       "24         1 days\n",
       "25         2 days\n",
       "26         8 days\n",
       "27         8 days\n",
       "28         2 days\n",
       "29         2 days\n",
       "            ...  \n",
       "37670263   4 days\n",
       "37670264   4 days\n",
       "37670265   4 days\n",
       "37670266   4 days\n",
       "37670267   6 days\n",
       "37670268   6 days\n",
       "37670269   6 days\n",
       "37670270   6 days\n",
       "37670271   6 days\n",
       "37670272   1 days\n",
       "37670273   1 days\n",
       "37670274   1 days\n",
       "37670275   1 days\n",
       "37670276   1 days\n",
       "37670277   1 days\n",
       "37670278   2 days\n",
       "37670279   4 days\n",
       "37670280   4 days\n",
       "37670281   4 days\n",
       "37670282   7 days\n",
       "37670283   1 days\n",
       "37670284   1 days\n",
       "37670285   1 days\n",
       "37670286   4 days\n",
       "37670287   4 days\n",
       "37670288   6 days\n",
       "37670289   5 days\n",
       "37670290   1 days\n",
       "37670291   1 days\n",
       "37670292   1 days\n",
       "Length: 37477603, dtype: timedelta64[ns]"
      ]
     },
     "execution_count": 137,
     "metadata": {},
     "output_type": "execute_result"
    }
   ],
   "source": [
    "checkInOut = checkInOut[checkInOut['srch_co'] > checkInOut['srch_ci']] #normalization\n",
    "checkInOut['srch_ci'] = checkInOut['srch_ci'].astype('datetime64[ns]')\n",
    "checkInOut['srch_co'] = checkInOut['srch_co'].astype('datetime64[ns]')\n",
    "diff = checkInOut['srch_co'] - checkInOut['srch_ci']\n",
    "diff"
   ]
  },
  {
   "cell_type": "code",
   "execution_count": 135,
   "metadata": {},
   "outputs": [
    {
     "name": "stdout",
     "output_type": "stream",
     "text": [
      "Checkin Data after  Checkout:  19152\n"
     ]
    }
   ],
   "source": []
  },
  {
   "cell_type": "code",
   "execution_count": 140,
   "metadata": {},
   "outputs": [
    {
     "data": {
      "text/plain": [
       "1 days      10007295\n",
       "2 days       7641766\n",
       "3 days       6487383\n",
       "4 days       4558994\n",
       "5 days       2634121\n",
       "7 days       2135625\n",
       "6 days       1803779\n",
       "8 days        651510\n",
       "9 days        406561\n",
       "10 days       311324\n",
       "14 days       196512\n",
       "11 days       154875\n",
       "13 days       124117\n",
       "12 days       109383\n",
       "15 days        50687\n",
       "16 days        29762\n",
       "21 days        24020\n",
       "17 days        20428\n",
       "20 days        18571\n",
       "28 days        16156\n",
       "19 days        15058\n",
       "18 days        14673\n",
       "22 days         8530\n",
       "26 days         7931\n",
       "25 days         7879\n",
       "27 days         6035\n",
       "23 days         5896\n",
       "24 days         5846\n",
       "31 days         2894\n",
       "30 days         2849\n",
       "              ...   \n",
       "178 days           1\n",
       "307 days           1\n",
       "206 days           1\n",
       "105 days           1\n",
       "223 days           1\n",
       "322 days           1\n",
       "172 days           1\n",
       "221 days           1\n",
       "377 days           1\n",
       "157 days           1\n",
       "175 days           1\n",
       "252 days           1\n",
       "139 days           1\n",
       "219 days           1\n",
       "173 days           1\n",
       "279 days           1\n",
       "294 days           1\n",
       "271 days           1\n",
       "164 days           1\n",
       "427 days           1\n",
       "228 days           1\n",
       "390 days           1\n",
       "304 days           1\n",
       "176 days           1\n",
       "179 days           1\n",
       "233 days           1\n",
       "295 days           1\n",
       "396 days           1\n",
       "237 days           1\n",
       "167 days           1\n",
       "Length: 286, dtype: int64"
      ]
     },
     "execution_count": 140,
     "metadata": {},
     "output_type": "execute_result"
    }
   ],
   "source": [
    "diff.value_counts()"
   ]
  },
  {
   "cell_type": "code",
   "execution_count": 164,
   "metadata": {},
   "outputs": [],
   "source": []
  },
  {
   "cell_type": "code",
   "execution_count": 179,
   "metadata": {},
   "outputs": [
    {
     "data": {
      "text/plain": [
       "1      10007295\n",
       "2       7641766\n",
       "3       6487383\n",
       "4       4558994\n",
       "5       2634121\n",
       "7       2135625\n",
       "6       1803779\n",
       "8        651510\n",
       "9        406561\n",
       "10       311324\n",
       "14       196512\n",
       "11       154875\n",
       "13       124117\n",
       "12       109383\n",
       "15        50687\n",
       "16        29762\n",
       "21        24020\n",
       "17        20428\n",
       "20        18571\n",
       "28        16156\n",
       "19        15058\n",
       "18        14673\n",
       "22         8530\n",
       "26         7931\n",
       "25         7879\n",
       "27         6035\n",
       "23         5896\n",
       "24         5846\n",
       "31         2894\n",
       "30         2849\n",
       "         ...   \n",
       "237           1\n",
       "200           1\n",
       "137           1\n",
       "309           1\n",
       "204           1\n",
       "357           1\n",
       "265           1\n",
       "419           1\n",
       "458           1\n",
       "201           1\n",
       "369           1\n",
       "376           1\n",
       "205           1\n",
       "251           1\n",
       "361           1\n",
       "254           1\n",
       "408           1\n",
       "113           1\n",
       "306           1\n",
       "220           1\n",
       "260           1\n",
       "287           1\n",
       "388           1\n",
       "101           1\n",
       "339           1\n",
       "321           1\n",
       "227           1\n",
       "138           1\n",
       "362           1\n",
       "167           1\n",
       "Length: 286, dtype: int64"
      ]
     },
     "execution_count": 179,
     "metadata": {},
     "output_type": "execute_result"
    }
   ],
   "source": [
    "diffCount.sort_values(ascending=False)"
   ]
  },
  {
   "cell_type": "code",
   "execution_count": null,
   "metadata": {
    "collapsed": true
   },
   "outputs": [],
   "source": []
  },
  {
   "cell_type": "code",
   "execution_count": 181,
   "metadata": {},
   "outputs": [
    {
     "data": {
      "text/plain": [
       "<matplotlib.axes._subplots.AxesSubplot at 0x117c34518>"
      ]
     },
     "execution_count": 181,
     "metadata": {},
     "output_type": "execute_result"
    },
    {
     "data": {
      "image/png": "[encoded data removed]",
      "text/plain": [
       "<matplotlib.figure.Figure at 0x117cb0a90>"
      ]
     },
     "metadata": {},
     "output_type": "display_data"
    }
   ],
   "source": [
    "# diffCount = diff.value_counts()\n",
    "# diffCount.index = (diffCount.index / np.timedelta64(1, 'D')).astype(int)\n",
    "diffCount = diffCount.sort_values(ascending=False)\n",
    "top10 = diffCount[:10]\n",
    "sns.barplot(top10.index, top10.values)\n",
    "# get current axis\n",
    "# ax = plt.gca()\n",
    "# get current xtick labels\n",
    "\n",
    "# convert all xtick labels to selected format from ms timestamp\n",
    "# ax.set_xticklabels([pd.to_datetime(tm, unit='ms').strftime('%Y-%m-%d\\n %H:%M:%S') for tm in xticks],\n",
    "#  rotation=50)\n",
    "\n",
    "# plt.show()\n"
   ]
  },
  {
   "cell_type": "code",
   "execution_count": null,
   "metadata": {
    "collapsed": true
   },
   "outputs": [],
   "source": []
  },
  {
   "cell_type": "code",
   "execution_count": null,
   "metadata": {
    "collapsed": true
   },
   "outputs": [],
   "source": []
  },
  {
   "cell_type": "markdown",
   "metadata": {},
   "source": [
    "### Features Correlated with the Hotel Cluster"
   ]
  },
  {
   "cell_type": "code",
   "execution_count": null,
   "metadata": {},
   "outputs": [
    {
     "name": "stdout",
     "output_type": "stream",
     "text": [
      "There is :  21  numeric columns\n"
     ]
    }
   ],
   "source": [
    "#Plot all numeric features corrolated with the Hotel Cluster\n",
    "numCol=expediaDF.select_dtypes(include=[np.number]).columns.tolist()\n",
    "print('There is : ',len(numCol),' numeric columns')\n",
    "for i in range(0,36,4):\n",
    "    sns.pairplot(expediaDF,x_vars=numCol[i:i+4],y_vars=['hotel_cluster'])"
   ]
  },
  {
   "cell_type": "code",
   "execution_count": null,
   "metadata": {
    "collapsed": true
   },
   "outputs": [],
   "source": []
  },
  {
   "cell_type": "code",
   "execution_count": 34,
   "metadata": {},
   "outputs": [
    {
     "name": "stdout",
     "output_type": "stream",
     "text": [
      "Total n. hotel clusters:  100\n"
     ]
    }
   ],
   "source": []
  },
  {
   "cell_type": "code",
   "execution_count": 46,
   "metadata": {},
   "outputs": [
    {
     "data": {
      "text/plain": [
       "site_name  posa_continent\n",
       "2          3                 136321\n",
       "6          0                     64\n",
       "7          1                    325\n",
       "8          4                   2683\n",
       "9          1                    240\n",
       "10         0                    430\n",
       "11         3                  13871\n",
       "13         1                   4606\n",
       "14         1                    532\n",
       "15         1                    196\n",
       "16         1                     14\n",
       "17         1                   2289\n",
       "18         2                   1846\n",
       "19         3                    103\n",
       "20         2                     25\n",
       "21         1                     59\n",
       "22         2                    481\n",
       "23         1                   2676\n",
       "24         2                   5799\n",
       "25         2                   1422\n",
       "26         0                    333\n",
       "27         2                    423\n",
       "28         1                    294\n",
       "29         1                    348\n",
       "30         4                    729\n",
       "31         2                     24\n",
       "32         1                    411\n",
       "33         2                   1147\n",
       "34         3                   3703\n",
       "35         2                   1064\n",
       "36         2                    152\n",
       "37         1                  16223\n",
       "38         2                     43\n",
       "40         3                    490\n",
       "41         3                      2\n",
       "44         2                     10\n",
       "45         2                    232\n",
       "46         2                    288\n",
       "47         2                      5\n",
       "48         2                     58\n",
       "53         1                     39\n",
       "Name: posa_continent, dtype: int64"
      ]
     },
     "execution_count": 46,
     "metadata": {},
     "output_type": "execute_result"
    }
   ],
   "source": [
    "data.groupby(['site_name', 'posa_continent'])['posa_continent'].size()"
   ]
  },
  {
   "cell_type": "code",
   "execution_count": 53,
   "metadata": {},
   "outputs": [
    {
     "data": {
      "text/plain": [
       "date_time                     object\n",
       "site_name                      int64\n",
       "posa_continent                 int64\n",
       "user_location_country          int64\n",
       "user_location_region           int64\n",
       "user_location_city             int64\n",
       "orig_destination_distance    float64\n",
       "user_id                        int64\n",
       "is_mobile                      int64\n",
       "is_package                     int64\n",
       "channel                        int64\n",
       "srch_ci                       object\n",
       "srch_co                       object\n",
       "srch_adults_cnt                int64\n",
       "srch_children_cnt              int64\n",
       "srch_rm_cnt                    int64\n",
       "srch_destination_id            int64\n",
       "srch_destination_type_id       int64\n",
       "is_booking                     int64\n",
       "cnt                            int64\n",
       "hotel_continent                int64\n",
       "hotel_country                  int64\n",
       "hotel_market                   int64\n",
       "hotel_cluster                  int64\n",
       "dtype: object"
      ]
     },
     "execution_count": 53,
     "metadata": {},
     "output_type": "execute_result"
    }
   ],
   "source": [
    "data.dtypes"
   ]
  },
  {
   "cell_type": "code",
   "execution_count": null,
   "metadata": {
    "collapsed": true
   },
   "outputs": [],
   "source": []
  }
 ],
 "metadata": {
  "kernelspec": {
   "display_name": "Python 3",
   "language": "python",
   "name": "python3"
  },
  "language_info": {
   "codemirror_mode": {
    "name": "ipython",
    "version": 3
   },
   "file_extension": ".py",
   "mimetype": "text/x-python",
   "name": "python",
   "nbconvert_exporter": "python",
   "pygments_lexer": "ipython3",
   "version": "3.6.3"
  }
 },
 "nbformat": 4,
 "nbformat_minor": 2
}
